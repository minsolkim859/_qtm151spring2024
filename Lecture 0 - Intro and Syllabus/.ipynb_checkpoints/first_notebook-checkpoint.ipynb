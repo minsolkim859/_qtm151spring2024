{
 "cells": [
  {
   "cell_type": "markdown",
   "id": "87033cb1",
   "metadata": {},
   "source": [
    "# This is my first Jupyter notebook"
   ]
  },
  {
   "cell_type": "code",
   "execution_count": 1,
   "id": "233935c0",
   "metadata": {},
   "outputs": [
    {
     "name": "stdout",
     "output_type": "stream",
     "text": [
      "My name is Minsol Kim\n"
     ]
    }
   ],
   "source": [
    "print(\"My name is Minsol Kim\")"
   ]
  },
  {
   "cell_type": "code",
   "execution_count": null,
   "id": "b750f15b",
   "metadata": {},
   "outputs": [],
   "source": []
  }
 ],
 "metadata": {
  "kernelspec": {
   "display_name": "Python 3 (ipykernel)",
   "language": "python",
   "name": "python3"
  },
  "language_info": {
   "codemirror_mode": {
    "name": "ipython",
    "version": 3
   },
   "file_extension": ".py",
   "mimetype": "text/x-python",
   "name": "python",
   "nbconvert_exporter": "python",
   "pygments_lexer": "ipython3",
   "version": "3.11.4"
  }
 },
 "nbformat": 4,
 "nbformat_minor": 5
}
